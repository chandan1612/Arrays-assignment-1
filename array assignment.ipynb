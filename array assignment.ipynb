{
 "cells": [
  {
   "cell_type": "markdown",
   "id": "52389ba8-e318-4150-875f-cb8b1645b6dd",
   "metadata": {},
   "source": [
    "### Solution1"
   ]
  },
  {
   "cell_type": "markdown",
   "id": "3a184673-dba3-4067-b3fc-2eab6c2f4bc6",
   "metadata": {},
   "source": [
    "def twoSum(nums, target):\n",
    "    visited = {}\n",
    "\n",
    "    numsLen = len(nums)\n",
    "    for currIndx in range(numsLen):\n",
    "        currNum = nums[currIndx]\n",
    "        remaining = target - currNum\n",
    "        if remaining in visited:\n",
    "            visitedIndx = visited[remaining]\n",
    "            return [visitedIndx, currIndx]\n",
    "        else:\n",
    "            visited[currNum] = currIndx\n",
    "nums = [2,7,11,15] \n",
    "target = 9 \n",
    "print(twoSum(nums, target))"
   ]
  },
  {
   "cell_type": "markdown",
   "id": "8a494496-8334-4e1b-823d-088e1374cf9c",
   "metadata": {},
   "source": [
    "### solution 2"
   ]
  },
  {
   "cell_type": "code",
   "execution_count": 14,
   "id": "a1b4d19f-a708-4edd-b5fb-d410d63403e8",
   "metadata": {},
   "outputs": [
    {
     "name": "stdout",
     "output_type": "stream",
     "text": [
      "2\n",
      "[2, 2, 2, 3]\n"
     ]
    }
   ],
   "source": [
    "def removeElement(nums, val):\n",
    "    i = 0\n",
    "    for j in range(len(nums)):\n",
    "        if nums[j] != val:\n",
    "            nums[i] = nums[j]\n",
    "            i += 1\n",
    "    return i\n",
    "nums = [3, 2, 2, 3]\n",
    "val = 3\n",
    "k = removeElement(nums, val)\n",
    "print(k) # Output: 2\n",
    "print(nums) # Output: [2, 2, _, _]\n"
   ]
  },
  {
   "cell_type": "markdown",
   "id": "d20b2ea5-7b8a-4981-b410-060043014390",
   "metadata": {},
   "source": [
    "### sol 3"
   ]
  },
  {
   "cell_type": "code",
   "execution_count": 19,
   "id": "aa5c16ca-2088-4f91-85e1-a25bee941b1f",
   "metadata": {},
   "outputs": [
    {
     "name": "stdout",
     "output_type": "stream",
     "text": [
      "2\n"
     ]
    }
   ],
   "source": [
    "def searchinsert(nums,target):\n",
    "    left =0\n",
    "    right = len(nums) -1\n",
    "    while left <= right:\n",
    "        mid = (left+right)//2\n",
    "        if nums[mid] == target:\n",
    "            return mid\n",
    "        elif nums[mid]> target:\n",
    "            right = mid - 1\n",
    "        else:\n",
    "            left = mid + 1\n",
    "    return left\n",
    "nums=[1,3,5,6]\n",
    "target = 5\n",
    "index = searchinsert(nums,target)\n",
    "print(index)"
   ]
  },
  {
   "cell_type": "markdown",
   "id": "659355c3-7a8e-4ec5-8332-e6551c2dd2ac",
   "metadata": {},
   "source": [
    "### sol 4"
   ]
  },
  {
   "cell_type": "code",
   "execution_count": 20,
   "id": "c2b12994-7f1e-4433-b463-556445243d8c",
   "metadata": {},
   "outputs": [
    {
     "name": "stdout",
     "output_type": "stream",
     "text": [
      "[1, 2, 4]\n"
     ]
    }
   ],
   "source": [
    "def plusOne(digits):\n",
    "   \n",
    "    for i in range(len(digits) - 1, -1, -1):\n",
    "        \n",
    "        if digits[i] < 9:\n",
    "            digits[i] += 1\n",
    "            return digits\n",
    "        else:\n",
    "            digits[i] = 0\n",
    "    \n",
    "    return [1] + digits\n",
    "\n",
    "digits = [1, 2, 3]\n",
    "result = plusOne(digits)\n",
    "print(result)\n"
   ]
  },
  {
   "cell_type": "markdown",
   "id": "24a69665-5db5-43b8-81e3-0a602d050438",
   "metadata": {},
   "source": [
    "### SOl 5"
   ]
  },
  {
   "cell_type": "code",
   "execution_count": 21,
   "id": "2a36d4a7-1e2f-4ae7-9209-5d48155fe4c2",
   "metadata": {},
   "outputs": [
    {
     "name": "stdout",
     "output_type": "stream",
     "text": [
      "[1, 2, 2, 3, 5, 6]\n"
     ]
    }
   ],
   "source": [
    "def merge(nums1, m, nums2, n):\n",
    "    p1 = m - 1\n",
    "    p2 = n - 1\n",
    "    \n",
    "    for i in range(m + n - 1, -1, -1):\n",
    "        if p2 < 0 or (p1 >= 0 and nums1[p1] > nums2[p2]):\n",
    "            nums1[i] = nums1[p1]\n",
    "            p1 -= 1\n",
    "    \n",
    "        else:\n",
    "            nums1[i] = nums2[p2]\n",
    "            p2 -= 1\n",
    "\n",
    "\n",
    "nums1 = [1, 2, 3, 0, 0, 0]\n",
    "m = 3\n",
    "nums2 = [2, 5, 6]\n",
    "n = 3\n",
    "merge(nums1, m, nums2, n)\n",
    "print(nums1) \n"
   ]
  },
  {
   "cell_type": "markdown",
   "id": "e6d99eda-20e2-4260-a9a3-32e83b37d2ac",
   "metadata": {},
   "source": [
    "### SoL 6"
   ]
  },
  {
   "cell_type": "code",
   "execution_count": 22,
   "id": "1a244af8-5e6b-44c3-8f4e-1a19e0d0ac73",
   "metadata": {},
   "outputs": [
    {
     "name": "stdout",
     "output_type": "stream",
     "text": [
      "True\n"
     ]
    }
   ],
   "source": [
    "def containsDuplicate(nums):\n",
    "   \n",
    "    unique_nums = set()\n",
    "    \n",
    "    for num in nums:\n",
    "       \n",
    "        if num in unique_nums:\n",
    "            return True\n",
    "        \n",
    "        else:\n",
    "            unique_nums.add(num)\n",
    "            \n",
    "    return False\n",
    "\n",
    "nums = [1, 2, 3, 1]\n",
    "\n",
    "print(containsDuplicate(nums)) \n"
   ]
  },
  {
   "cell_type": "markdown",
   "id": "3f3a0dc3-2f03-4983-a4a4-3e8376ae167c",
   "metadata": {},
   "source": [
    "### Sol 7"
   ]
  },
  {
   "cell_type": "code",
   "execution_count": 25,
   "id": "7c72a86c-3675-4f69-a0f5-84d50abffde1",
   "metadata": {},
   "outputs": [],
   "source": [
    "def moveZeroes(nums):\n",
    "   \n",
    "    i = 0\n",
    "    j = 0\n",
    "    while i < len(nums):\n",
    "        if nums[i] != 0:\n",
    "            nums[j], nums[i] = nums[i], nums[j]\n",
    "            j += 1\n",
    "        i += 1\n"
   ]
  },
  {
   "cell_type": "markdown",
   "id": "a84bdbe2-9596-4efa-a610-1263438d0fb0",
   "metadata": {},
   "source": [
    "### sol 8"
   ]
  },
  {
   "cell_type": "code",
   "execution_count": null,
   "id": "ab1bffe7-21d2-4382-8b3a-5aafebfd1996",
   "metadata": {},
   "outputs": [],
   "source": [
    "def findErrorNums(nums):\n",
    "    \"\"\"\n",
    "    :type nums: List[int]\n",
    "    :rtype: List[int]\n",
    "    \"\"\"\n",
    "    # Create a set to store unique elements\n",
    "    unique_nums = set()\n",
    "    \n",
    "    # Initialize variables for the sum of nums and the sum of 1 to n\n",
    "    nums_sum = 0\n",
    "    n_sum = 0\n",
    "    \n",
    "    # Loop through the array and add each element to the set\n",
    "    for num in nums:\n",
    "        # If the element is already in the set, it is the duplicate number\n",
    "        if num in unique_nums:\n",
    "            duplicate_num = num\n",
    "        \n",
    "        \n",
    "        else:\n",
    "            unique_nums.add(num)\n",
    "        \n",
    "      \n",
    "        nums_sum += num\n",
    "    \n",
    "    \n",
    "    n_sum = sum(range(1, len(nums) + 1))\n",
    "    \n",
    "    \n",
    "    missing_num = n_sum - nums_sum + duplicate_num\n",
    "    \n",
    "    return [duplicate_num, missing_num]\n",
    "\n",
    "\n",
    "nums = [1, 2, 2, 4]\n",
    "print(findErrorNums(nums)) \n"
   ]
  }
 ],
 "metadata": {
  "kernelspec": {
   "display_name": "Python 3 (ipykernel)",
   "language": "python",
   "name": "python3"
  },
  "language_info": {
   "codemirror_mode": {
    "name": "ipython",
    "version": 3
   },
   "file_extension": ".py",
   "mimetype": "text/x-python",
   "name": "python",
   "nbconvert_exporter": "python",
   "pygments_lexer": "ipython3",
   "version": "3.10.8"
  }
 },
 "nbformat": 4,
 "nbformat_minor": 5
}
